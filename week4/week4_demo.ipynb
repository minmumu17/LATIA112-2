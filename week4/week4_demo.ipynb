{
  "nbformat": 4,
  "nbformat_minor": 0,
  "metadata": {
    "colab": {
      "provenance": [],
      "collapsed_sections": [
        "lC820rGyQ3fm",
        "AgtU-JVWSMp0",
        "_4JeR1-KSOb8"
      ]
    },
    "kernelspec": {
      "name": "python3",
      "display_name": "Python 3"
    },
    "language_info": {
      "name": "python"
    }
  },
  "cells": [
    {
      "cell_type": "markdown",
      "source": [
        "from google colab import files #匯入套件\n",
        "\n",
        "import pandas as pd\n",
        "\n",
        "upload = files.upload() #開啟上傳介面並載入\n",
        "\n",
        "data = pd.read_csv(\"剛剛上傳的檔案名稱\")"
      ],
      "metadata": {
        "id": "iaUICnvVBX5N"
      }
    },
    {
      "cell_type": "code",
      "execution_count": 53,
      "metadata": {
        "id": "nrJeVAasiBPQ",
        "outputId": "9b641a57-1265-4b1b-9366-5ca03c1ae509",
        "colab": {
          "base_uri": "https://localhost:8080/"
        }
      },
      "outputs": [
        {
          "output_type": "stream",
          "name": "stdout",
          "text": [
            "Mounted at /content/gdrive/\n",
            "ls: cannot access '自行填寫正確的路徑': No such file or directory\n"
          ]
        }
      ],
      "source": [
        "from google.colab import drive\n",
        "drive.mount('/content/gdrive/', force_remount=True)\n",
        "\n",
        "import os\n",
        "os.chdir(\"/content/gdrive/My Drive/LATIA112-2/week3\") # 切換目錄\n",
        "#!ls -l \"/content/gdrive/My Drive/112_2_LATIA/week3_030524/\" # 列出目錄下的檔案\n",
        "!ls -l \"自行填寫正確的路徑\""
      ]
    },
    {
      "cell_type": "code",
      "source": [
        "import pandas as pd\n",
        "\n",
        "csv_file = './112_student.csv'\n",
        "#6-10 桃園市大專校院環境相關科系(所)畢業學生人數\n",
        "#csv_file =\"自行填寫正確的路徑\"\n",
        "\n",
        "#columns = [\n",
        "#    \"學年度\",\"學校代碼\",\"學校名稱\",\"日間∕進修別\",\"等級別\",\"總計\",\"男生計\",\n",
        "#    \"女生計\",\"一年級男\",\"一年級女\",\"二年級男\",\"二年級女\",\"三年級男\",\"三年級女\",\n",
        "#    \"四年級男\",\"四年級女\",\"五年級男\",\"五年級女\",\"六年級男\",\"六年級女\",\n",
        "#    \"七年級男\",\"七年級女\",\"延修生男\",\"延修生女\",\"縣市名稱\",\"體系別\"\n",
        "#]\n",
        "df = pd.read_csv(csv_file) # 讀取csv檔案\n",
        "print(df.head()) #括號內沒有數字是抓前五比(0-4)\n",
        "\n",
        "#查看資料欄位資訊\n",
        "print(df.info())\n",
        "\n",
        "#查看資料的統計學資訊描述\n",
        "#print(df.describe(include='all'))"
      ],
      "metadata": {
        "id": "hth5CL3clOs2",
        "outputId": "053040f7-d14f-41c0-a541-f5ab783db76a",
        "colab": {
          "base_uri": "https://localhost:8080/"
        }
      },
      "execution_count": 54,
      "outputs": [
        {
          "output_type": "stream",
          "name": "stdout",
          "text": [
            "   學年度  學校代碼    學校名稱 日間∕進修別   等級別    總計   男生計   女生計  一年級男  一年級女  ...  五年級男  \\\n",
            "0  112     1  國立政治大學    D 日  D 博士   921   517   404    86    69  ...    63   \n",
            "1  112     1  國立政治大學    D 日  M 碩士  4231  1835  2396   598   809  ...     2   \n",
            "2  112     1  國立政治大學    N 職  M 碩士  1903   938   965   262   304  ...    77   \n",
            "3  112     1  國立政治大學    D 日  B 學士  9763  3928  5835   906  1349  ...     0   \n",
            "4  112     2  國立清華大學    D 日  D 博士  1636  1131   505   206    93  ...   140   \n",
            "\n",
            "   五年級女  六年級男  六年級女  七年級男  七年級女  延修生男  延修生女    縣市名稱   體系別  \n",
            "0    52    68    37    66    50     0     0  30 臺北市  1 一般  \n",
            "1     1     1     0     0     0     0     0  30 臺北市  1 一般  \n",
            "2    57     0     0     0     0     0     0  30 臺北市  1 一般  \n",
            "3     0     0     0     0     0   316   499  30 臺北市  1 一般  \n",
            "4    60   110    50   115    56     0     0  18 新竹市  1 一般  \n",
            "\n",
            "[5 rows x 26 columns]\n",
            "<class 'pandas.core.frame.DataFrame'>\n",
            "RangeIndex: 764 entries, 0 to 763\n",
            "Data columns (total 26 columns):\n",
            " #   Column  Non-Null Count  Dtype \n",
            "---  ------  --------------  ----- \n",
            " 0   學年度     764 non-null    int64 \n",
            " 1   學校代碼    764 non-null    int64 \n",
            " 2   學校名稱    764 non-null    object\n",
            " 3   日間∕進修別  764 non-null    object\n",
            " 4   等級別     764 non-null    object\n",
            " 5   總計      764 non-null    int64 \n",
            " 6   男生計     764 non-null    int64 \n",
            " 7   女生計     764 non-null    int64 \n",
            " 8   一年級男    764 non-null    int64 \n",
            " 9   一年級女    764 non-null    int64 \n",
            " 10  二年級男    764 non-null    int64 \n",
            " 11  二年級女    764 non-null    int64 \n",
            " 12  三年級男    764 non-null    int64 \n",
            " 13  三年級女    764 non-null    int64 \n",
            " 14  四年級男    764 non-null    int64 \n",
            " 15  四年級女    764 non-null    int64 \n",
            " 16  五年級男    764 non-null    int64 \n",
            " 17  五年級女    764 non-null    int64 \n",
            " 18  六年級男    764 non-null    int64 \n",
            " 19  六年級女    764 non-null    int64 \n",
            " 20  七年級男    764 non-null    int64 \n",
            " 21  七年級女    764 non-null    int64 \n",
            " 22  延修生男    764 non-null    int64 \n",
            " 23  延修生女    764 non-null    int64 \n",
            " 24  縣市名稱    764 non-null    object\n",
            " 25  體系別     764 non-null    object\n",
            "dtypes: int64(21), object(5)\n",
            "memory usage: 155.3+ KB\n",
            "None\n"
          ]
        }
      ]
    },
    {
      "cell_type": "markdown",
      "source": [
        "# 1.哪間大專院校有最多的學士生\n",
        "\n",
        "step1: 取出想要查看的欄位，並印出此資料集共有多少筆紀錄 (len)\n",
        "\n",
        "step2: 篩選等級別為\"B 學士\"的DataFrame，並印出有招生學士學制的學校數量\n",
        "\n",
        "step3: 依據\"總計\"從大到小排序並印出結果 (sort_values, by, ascending)"
      ],
      "metadata": {
        "id": "bX5p1tgOSu1i"
      }
    },
    {
      "cell_type": "code",
      "source": [
        "# 請在\"填空\"處，輸入所需要的指令或參數\n",
        "\n",
        "df1 = df[['等級別', '總計', '學校名稱']] # 取出想要觀看的欄位\n",
        "print(\"本資料集共有\", len(df1), \"筆紀錄\")\n",
        "\n",
        "df1_1 = df1[df1['等級別'] == 'B 學士']\n",
        "print(\"有招生學士學制的學校數量為\", len(df1_1), \"\\n\")\n",
        "df1_1_sorted = df1_1.sort_values(by=\"總計\",ascending=False)\n",
        "df1_1_sorted.head()\n",
        "print(\"112學年度在籍的學士生最多人數之學校為\", df1_1_sorted.head(1)['學校名稱'].values)"
      ],
      "metadata": {
        "id": "D9AfvfU-Szu7",
        "outputId": "9d7b6507-49ca-4bef-8564-1df9d25d9b22",
        "colab": {
          "base_uri": "https://localhost:8080/"
        }
      },
      "execution_count": 55,
      "outputs": [
        {
          "output_type": "stream",
          "name": "stdout",
          "text": [
            "本資料集共有 764 筆紀錄\n",
            "有招生學士學制的學校數量為 97 \n",
            "\n",
            "112學年度在籍的學士生最多人數之學校為 ['淡江大學']\n"
          ]
        }
      ]
    },
    {
      "cell_type": "markdown",
      "source": [
        "# 2. 國立？所；私立？所\n",
        "\n",
        "step1: 建立空字串 (lsit=[])\n",
        "\n",
        "step2: 建立for迴圈，配合if else條件，取出國立與私立\n",
        "\n",
        "step3: 新增「公私立」column在DataFrame中 (df['公私立'])\n",
        "\n",
        "step4: 篩選掉重複的學校代碼資料 (drop_duplicates)\n",
        "\n",
        "step5: 計算公立與私立學校的筆數，並印出結果 (value_counts)"
      ],
      "metadata": {
        "id": "IzqRi2WyRZFh"
      }
    },
    {
      "cell_type": "code",
      "source": [
        "type_list = [] # 建立空字串\n",
        "df1_1 = df[['學校名稱']]\n",
        "for i in df['學校名稱']:\n",
        "    if ('國立' in i) or ('市立' in i):\n",
        "        type_list.append('公立')\n",
        "    else:\n",
        "        type_list.append('私立')\n",
        "\n",
        "df['公私立'] = type_list # 將 Dataframe 新增「公私立」column\n",
        "#print(df.head())\n",
        "df2 = df.drop_duplicates('學校代碼')\n",
        "count = df2['公私立'].value_counts()\n",
        "print(df2)\n",
        "print(f\"本資料集共收集了 {len(df2)} 所學校，其中公立：{count['公立']} 所；私立：{count['私立']} 所。\")"
      ],
      "metadata": {
        "id": "eMbiigpnRbdl",
        "outputId": "c2709d46-b61d-4473-afb5-299d36a40867",
        "colab": {
          "base_uri": "https://localhost:8080/"
        }
      },
      "execution_count": 56,
      "outputs": [
        {
          "output_type": "stream",
          "name": "stdout",
          "text": [
            "     學年度  學校代碼        學校名稱 日間∕進修別   等級別    總計   男生計   女生計  一年級男  一年級女  ...  \\\n",
            "0    112     1      國立政治大學    D 日  D 博士   921   517   404    86    69  ...   \n",
            "4    112     2      國立清華大學    D 日  D 博士  1636  1131   505   206    93  ...   \n",
            "9    112     3      國立臺灣大學    D 日  D 博士  3654  2454  1200   431   215  ...   \n",
            "13   112     4    國立臺灣師範大學    D 日  D 博士  1337   630   707   106   127  ...   \n",
            "17   112     5      國立成功大學    D 日  D 博士  1888  1228   660   219   136  ...   \n",
            "..   ...   ...         ...    ...   ...   ...   ...   ...   ...   ...  ...   \n",
            "753  112  1289  育英醫護管理專科學校    D 日  5 五專  1833   200  1633    39   343  ...   \n",
            "754  112  1291  聖母醫護管理專科學校    D 日  2 二專     2     2     0     0     0  ...   \n",
            "757  112  1292  新生醫護管理專科學校    N 修  2 二專    79    12    67     7    37  ...   \n",
            "759  112  1293  崇仁醫護管理專科學校    D 日  5 五專  3017   460  2557   112   515  ...   \n",
            "760  112  3002      臺北市立大學    D 日  D 博士   208    94   114    17    11  ...   \n",
            "\n",
            "     五年級女  六年級男  六年級女  七年級男  七年級女  延修生男  延修生女    縣市名稱   體系別  公私立  \n",
            "0      52    68    37    66    50     0     0  30 臺北市  1 一般   公立  \n",
            "4      60   110    50   115    56     0     0  18 新竹市  1 一般   公立  \n",
            "9     128   179   106   312   132     0     0  30 臺北市  1 一般   公立  \n",
            "13     83    59    85    87    89     0     0  30 臺北市  3 師範   公立  \n",
            "17     84   107    57   110    48     0     0  21 臺南市  1 一般   公立  \n",
            "..    ...   ...   ...   ...   ...   ...   ...     ...   ...  ...  \n",
            "753   276     0     0     0     0    13    77  50 高雄市  2 技職   私立  \n",
            "754     0     0     0     0     0     2     0  02 宜蘭縣  2 技職   私立  \n",
            "757     0     0     0     0     0     0     1  03 桃園市  2 技職   私立  \n",
            "759   529     0     0     0     0    19    45  10 嘉義縣  2 技職   私立  \n",
            "760    14     6     9    16    25     0     0  30 臺北市  1 一般   公立  \n",
            "\n",
            "[145 rows x 27 columns]\n",
            "本資料集共收集了 145 所學校，其中公立：47 所；私立：98 所。\n"
          ]
        }
      ]
    },
    {
      "cell_type": "markdown",
      "source": [
        "# 3. 各等級別學制共有？所\n",
        "\n",
        "step1: 篩選掉重複的學校名稱與等級別 (drop_duplicates, subset)\n",
        "\n",
        "step2: 計算出等級別的筆數 (value_counts)\n",
        "\n",
        "step3: 建立等級別的字串，並找出其類別 (unique)\n",
        "\n",
        "step4: 使用for迴圈，依序列出所有等級別學制的學校數量 (count)"
      ],
      "metadata": {
        "id": "Fg_f-NzNSKiU"
      }
    },
    {
      "cell_type": "code",
      "source": [
        "df3 = df.drop_duplicates(subset=['學校名稱','等級別'])\n",
        "#print(df3)\n",
        "count = df3['等級別'].value_counts()\n",
        "degree_list = list(df['等級別'].unique())\n",
        "\n",
        "print(f\"本資料集總共收集了 {len(set(df['學校名稱']))} 所學校，各等級學制當中：\")\n",
        "for degree in degree_list:\n",
        "    print(f\"一共有{count[degree]} 所學校， 有招收{degree}。\")"
      ],
      "metadata": {
        "id": "FuhQKQqRSLOc",
        "outputId": "2e0d2bb4-e8a1-4822-8415-6143a61ded49",
        "colab": {
          "base_uri": "https://localhost:8080/"
        }
      },
      "execution_count": 57,
      "outputs": [
        {
          "output_type": "stream",
          "name": "stdout",
          "text": [
            "本資料集總共收集了 145 所學校，各等級學制當中：\n",
            "一共有84 所學校， 有招收D 博士。\n",
            "一共有130 所學校， 有招收M 碩士。\n",
            "一共有67 所學校， 有招收B 學士。\n",
            "一共有1 所學校， 有招收X 4+X。\n",
            "一共有71 所學校， 有招收C 二技。\n",
            "一共有66 所學校， 有招收B 四技。\n",
            "一共有46 所學校， 有招收5 五專。\n",
            "一共有2 所學校， 有招收5 七年。\n",
            "一共有46 所學校， 有招收2 二專。\n",
            "一共有1 所學校， 有招收C 二年制。\n"
          ]
        }
      ]
    },
    {
      "cell_type": "markdown",
      "source": [
        "## 1.國立政治大學日間部有多少學生\n"
      ],
      "metadata": {
        "id": "lC820rGyQ3fm"
      }
    },
    {
      "cell_type": "code",
      "source": [
        "x_search=df[['學校名稱','日間∕進修別','總計']]\n",
        "x_search2=x_search[x_search['學校名稱']=='國立政治大學']\n",
        "x_search3=x_search2[x_search2['日間∕進修別']=='D 日']\n",
        "x_search3_total=x_search3['總計'].sum()\n",
        "x_search3\n",
        "x_search3_total\n",
        "print(f\"國立政治大學日間部的總學生數量為：{x_search3_total}\")\n",
        "# df_search=df[x_search['學校名稱']=='國立政治大學']\n",
        "#df_search\n",
        "# new_search=df_search[df_search['日間∕進修別']=='D 日']\n",
        "# print(new_search)"
      ],
      "metadata": {
        "colab": {
          "base_uri": "https://localhost:8080/"
        },
        "id": "-Au7Qlh-SR6s",
        "outputId": "e8341de2-44c6-4692-e25e-8d60d7f0f060"
      },
      "execution_count": 34,
      "outputs": [
        {
          "output_type": "stream",
          "name": "stdout",
          "text": [
            "國立政治大學日間部的總學生數量為：14915\n"
          ]
        }
      ]
    },
    {
      "cell_type": "markdown",
      "source": [
        "## 2.國立政治大學日間部的男女學生比"
      ],
      "metadata": {
        "id": "AgtU-JVWSMp0"
      }
    },
    {
      "cell_type": "code",
      "source": [
        "x_search2=df[df['學校名稱']=='國立政治大學']\n",
        "x_search3=x_search2[x_search2['日間∕進修別']=='D 日']\n",
        "x_search3\n",
        "male=x_search3['男生計'].sum()\n",
        "female=x_search3['女生計'].sum()\n",
        "print(f\"國立政治大學日間部的男生數量為：{male},女生數量為:{female}\")"
      ],
      "metadata": {
        "colab": {
          "base_uri": "https://localhost:8080/"
        },
        "id": "uEni3Ng3SSw0",
        "outputId": "f27b7b66-92b4-43da-dfa2-ad10c907cab4"
      },
      "execution_count": 40,
      "outputs": [
        {
          "output_type": "stream",
          "name": "stdout",
          "text": [
            "國立政治大學日間部的男生數量為：6280,女生數量為:8635\n"
          ]
        }
      ]
    },
    {
      "cell_type": "markdown",
      "source": [
        "## 3.國立政治大學的博士生數量"
      ],
      "metadata": {
        "id": "_4JeR1-KSOb8"
      }
    },
    {
      "cell_type": "code",
      "source": [
        "x_search4=x_search3[x_search3['等級別']=='D 博士']\n",
        "number1=x_search4['總計'].sum()\n",
        "print(f\"國立政治大學的博士生數量為：{number1}\")\n"
      ],
      "metadata": {
        "colab": {
          "base_uri": "https://localhost:8080/"
        },
        "id": "Rpa6aSqFSQnz",
        "outputId": "c8695455-c208-4a62-9a55-095e1f68bb0a"
      },
      "execution_count": 46,
      "outputs": [
        {
          "output_type": "stream",
          "name": "stdout",
          "text": [
            "國立政治大學的博士生數量為：921\n"
          ]
        }
      ]
    },
    {
      "cell_type": "markdown",
      "source": [
        "# 4. 各縣市分別有？所，位於新北市的大專院校總共有幾所"
      ],
      "metadata": {
        "id": "wKevo1U1TOn2"
      }
    },
    {
      "cell_type": "code",
      "source": [
        "city_list = []\n",
        "\n",
        "for i in df['縣市名稱']:\n",
        "    city_list.append(i[3:])\n",
        "\n",
        "df['縣市名'] = city_list\n",
        "df4 = df.drop_duplicates('學校代碼')\n",
        "count = df4['縣市名'].value_counts()\n",
        "city_list = df4['縣市名'].unique()\n",
        "print(f\"本資料集共收集了 {len(df4)} 學校，其中：\")\n",
        "\n",
        "for city in city_list:\n",
        "    print(f\"{city}有 {count[city]} 所\")\n",
        "\n",
        "newtaipei = df4[df4['縣市名'] == '新北市']\n",
        "print('\\n') #斷行的用途\n",
        "print(newtaipei['縣市名'].value_counts())"
      ],
      "metadata": {
        "id": "kTfp6k2ATPPI",
        "colab": {
          "base_uri": "https://localhost:8080/"
        },
        "outputId": "ad9c8dbb-ac31-4766-f124-e7318b6c81f3"
      },
      "execution_count": 62,
      "outputs": [
        {
          "output_type": "stream",
          "name": "stdout",
          "text": [
            "本資料集共收集了 145 學校，其中：\n",
            "臺北市有 24 所\n",
            "新竹市有 5 所\n",
            "臺南市有 13 所\n",
            "臺中市有 17 所\n",
            "桃園市有 12 所\n",
            "高雄市有 15 所\n",
            "基隆市有 3 所\n",
            "嘉義縣有 4 所\n",
            "彰化縣有 4 所\n",
            "新北市有 20 所\n",
            "嘉義市有 2 所\n",
            "花蓮縣有 4 所\n",
            "南投縣有 2 所\n",
            "雲林縣有 3 所\n",
            "屏東縣有 5 所\n",
            "臺東縣有 2 所\n",
            "宜蘭縣有 3 所\n",
            "苗栗縣有 3 所\n",
            "澎湖縣有 1 所\n",
            "金門縣有 1 所\n",
            "新竹縣有 2 所\n",
            "\n",
            "\n",
            "新北市    20\n",
            "Name: 縣市名, dtype: int64\n"
          ]
        }
      ]
    },
    {
      "cell_type": "markdown",
      "source": [
        "# 5. 北中南東區分別有？所\n",
        "\n",
        "都市及區域發展統計彙編 - 國發會 https://www.ndc.gov.tw/nc_77_4402"
      ],
      "metadata": {
        "id": "cwKsmmdNXKwL"
      }
    },
    {
      "cell_type": "markdown",
      "source": [
        "北部區域：包括臺北市、新北市、基隆市、新竹市、桃園市、新竹縣及宜蘭縣。\n",
        "\n",
        "中部區域：包括臺中市、苗栗縣、彰化縣、南投縣及雲林縣。\n",
        "\n",
        "南部區域：包括高雄市、臺南市、嘉義市、嘉義縣、屏東縣及澎湖縣。\n",
        "\n",
        "東部區域：包括花蓮縣及臺東縣。\n",
        "\n",
        "福建省：包括金門縣與連江縣。"
      ],
      "metadata": {
        "id": "nc8jGnGW_joN"
      }
    },
    {
      "cell_type": "code",
      "source": [
        "city_to_area = {'臺北市':'北部',\n",
        "         '新北市':'北部',\n",
        "         '基隆市':'北部',\n",
        "         '新竹市':'北部',\n",
        "         '桃園市':'北部',\n",
        "         '新竹縣':'北部',\n",
        "         '宜蘭縣':'北部',\n",
        "         '臺中市':'中部',\n",
        "         '苗栗縣':'中部',\n",
        "         '彰化縣':'中部',\n",
        "         '南投縣':'中部',\n",
        "         '雲林縣':'中部',\n",
        "         '高雄市':'南部',\n",
        "         '臺南市':'南部',\n",
        "         '嘉義市':'南部',\n",
        "         '嘉義縣':'南部',\n",
        "         '屏東縣':'南部',\n",
        "         '澎湖縣':'南部',\n",
        "         '花蓮縣':'東部',\n",
        "         '臺東縣':'東部',\n",
        "         '金門縣':'福建省'}\n",
        "\n",
        "df['區域'] = df['縣市名'].map(city_to_area)\n",
        "\n",
        "df5 = df.drop_duplicates('學校代碼')\n",
        "count = df5['區域'].value_counts()\n",
        "print(f\"本資料集共收集了 {len(df5)} 所學校，其中：\")\n",
        "print(f\"北部區域有 {count['北部']} 所；\\n中部區域有 {count['中部']} 所；\\n南部區域有 {count['南部']} 所；\\n東部區域有 {count['東部']} 所；\\n福建省區域有 {count['福建省']} 所。\")"
      ],
      "metadata": {
        "id": "RDgJ5YoAx92d",
        "colab": {
          "base_uri": "https://localhost:8080/"
        },
        "outputId": "c14e5ada-d68a-45f0-fadc-d82ded26ca12"
      },
      "execution_count": 60,
      "outputs": [
        {
          "output_type": "stream",
          "name": "stdout",
          "text": [
            "本資料集共收集了 145 所學校，其中：\n",
            "北部區域有 69 所；\n",
            "中部區域有 29 所；\n",
            "南部區域有 40 所；\n",
            "東部區域有 6 所；\n",
            "福建省區域有 1 所。\n"
          ]
        }
      ]
    },
    {
      "cell_type": "markdown",
      "source": [
        "# 6. 各體系別分別有？所"
      ],
      "metadata": {
        "id": "7WkoovplBeaz"
      }
    },
    {
      "cell_type": "code",
      "source": [
        "df6 = df.drop_duplicates('學校代碼')\n",
        "count = df6['體系別'].value_counts()\n",
        "\n",
        "print(f\"本資料集共收集了 {len(df6)} 所學校，其中：技職體系有 {count['2 技職']} 所；一般體系有 {count['1 一般']} 所；師範體系有 {count['3 師範']} 所。\")"
      ],
      "metadata": {
        "id": "JKMhMFVMBiBF",
        "colab": {
          "base_uri": "https://localhost:8080/"
        },
        "outputId": "9c881296-04f3-472b-d60f-f16d007b6573"
      },
      "execution_count": 65,
      "outputs": [
        {
          "output_type": "stream",
          "name": "stdout",
          "text": [
            "本資料集共收集了 145 所學校，其中：技職體系有 78 所；一般體系有 62 所；師範體系有 5 所。\n"
          ]
        }
      ]
    },
    {
      "cell_type": "markdown",
      "source": [
        "# 7. 國立/私立與男女比\n",
        "請問國立大學與私立大學在學男生女生比例為何? 延修生男生女生比例為何?"
      ],
      "metadata": {
        "id": "h3ujPC6KCLxI"
      }
    },
    {
      "cell_type": "code",
      "source": [
        "count = {}\n",
        "\n",
        "def create_count_dict(df, count): # 建立多層 dict 結構來儲存各校在學與延修生的男女生數\n",
        "    df7 = df.drop_duplicates('學校代碼')\n",
        "    for i in df7['學校名稱']:\n",
        "        count[i] = {}\n",
        "        count[i]['在學生'] = {}\n",
        "        count[i]['在學生']['男生數'] = 0\n",
        "        count[i]['在學生']['女生數'] = 0\n",
        "        count[i]['延修生'] = {}\n",
        "        count[i]['延修生']['男生數'] = 0\n",
        "        count[i]['延修生']['女生數'] = 0\n",
        "\n",
        "\n",
        "def count_every_schools_data(df):\n",
        "    for j in range(len(df)):\n",
        "        count[df.iloc[j,2]]['在學生']['男生數'] += (int(df.iloc[j,8]) + int(df.iloc[j,10]) + int(df.iloc[j,12]) + int(df.iloc[j,14]) + int(df.iloc[j,16]) + int(df.iloc[j,18]) + int(df.iloc[j,20]))\n",
        "        count[df.iloc[j,2]]['在學生']['女生數'] += (int(df.iloc[j,9]) + int(df.iloc[j,11]) + int(df.iloc[j,13]) + int(df.iloc[j,15]) + int(df.iloc[j,17]) + int(df.iloc[j,19]) + int(df.iloc[j,21]))\n",
        "        count[df.iloc[j,2]]['延修生']['男生數'] += int(df.iloc[j,22])\n",
        "        count[df.iloc[j,2]]['延修生']['女生數'] += int(df.iloc[j,23])\n",
        "\n",
        "create_count_dict(df, count) # 執行Line37定義的Function\n",
        "count_every_schools_data(df) # 執行Line49定義的Function\n",
        "\n",
        "\n"
      ],
      "metadata": {
        "id": "deMDYF5ACMU-"
      },
      "execution_count": 69,
      "outputs": []
    },
    {
      "cell_type": "code",
      "source": [
        "public_current_male = 0\n",
        "public_current_female = 0\n",
        "\n",
        "df7_1 = df.drop_duplicates('學校代碼', ignore_index=True)\n",
        "for i in range(len(df7_1)):\n",
        "    if df7_1.loc[i,'公私立'] == '公立':\n",
        "        public_current_male += count[df7_1.loc[i,'學校名稱']]['在學生']['男生數']\n",
        "        public_current_female += count[df7_1.loc[i,'學校名稱']]['在學生']['女生數']\n",
        "\n",
        "ratio = public_current_male/public_current_female*100 # 男女比計算公式\n",
        "print(f'國立大學在學生男女比：{ratio} ≑ {round(ratio,2)}') # 四捨五入至小數點後兩位\n",
        "\n",
        "df7_2 = df.drop_duplicates('學校代碼', ignore_index=True)\n",
        "for i in range(len(df7_2)):\n",
        "    if df7_2.loc[i,'公私立'] == '私立':\n",
        "        public_current_male += count[df7_1.loc[i,'學校名稱']]['在學生']['男生數']\n",
        "        public_current_female += count[df7_1.loc[i,'學校名稱']]['在學生']['女生數']\n",
        "\n",
        "ratio = public_current_male/public_current_female*100 # 男女比計算公式\n",
        "print(f'私立大學在學生男女比：{ratio} ≑ {round(ratio,2)}') # 四捨五入至小數點後兩位\n",
        "\n",
        "df7_3 = df.drop_duplicates('學校代碼', ignore_index=True)\n",
        "for i in range(len(df7_3)):\n",
        "    if df7_3.loc[i,'公私立'] == '國立':\n",
        "        public_current_male += count[df7_1.loc[i,'學校名稱']]['延修生']['男生數']\n",
        "        public_current_female += count[df7_1.loc[i,'學校名稱']]['延修生']['女生數']\n",
        "\n",
        "ratio = public_current_male/public_current_female*100 # 男女比計算公式\n",
        "print(f'國立大學延修生男女比：{ratio} ≑ {round(ratio,2)}') # 四捨五入至小數點後兩位\n",
        "\n",
        "df7_4 = df.drop_duplicates('學校代碼', ignore_index=True)\n",
        "for i in range(len(df7_4)):\n",
        "    if df7_4.loc[i,'公私立'] == '私立':\n",
        "        public_current_male += count[df7_1.loc[i,'學校名稱']]['延修生']['男生數']\n",
        "        public_current_female += count[df7_1.loc[i,'學校名稱']]['延修生']['女生數']\n",
        "\n",
        "ratio = public_current_male/public_current_female*100 # 男女比計算公式\n",
        "print(f'私立大學延修生男女比：{ratio} ≑ {round(ratio,2)}') # 四捨五入至小數點後兩位"
      ],
      "metadata": {
        "colab": {
          "base_uri": "https://localhost:8080/"
        },
        "id": "gbRUti5el70n",
        "outputId": "00a6fe3d-5e11-412b-d51b-519b41fe3703"
      },
      "execution_count": 70,
      "outputs": [
        {
          "output_type": "stream",
          "name": "stdout",
          "text": [
            "國立大學在學生男女比：119.10964038427396 ≑ 119.11\n",
            "私立大學在學生男女比：96.44547804394217 ≑ 96.45\n",
            "國立大學延修生男女比：96.44547804394217 ≑ 96.45\n",
            "私立大學延修生男女比：97.30984726379614 ≑ 97.31\n"
          ]
        }
      ]
    },
    {
      "cell_type": "markdown",
      "source": [
        "# 8. 國立大學在學生男女比"
      ],
      "metadata": {
        "id": "DAvYMOFLCtRn"
      }
    },
    {
      "cell_type": "code",
      "source": [
        "ratio = public_current_male/public_current_female*100 # 男女比計算公式\n",
        "print(f'國立大學在學生男女比：{ratio} ≑ {round(ratio,2)}') # 四捨五入至小數點後兩位"
      ],
      "metadata": {
        "id": "dYAEBiC7Co8B",
        "colab": {
          "base_uri": "https://localhost:8080/"
        },
        "outputId": "80a0e295-92ca-40c1-e057-218c5f03be76"
      },
      "execution_count": 76,
      "outputs": [
        {
          "output_type": "stream",
          "name": "stdout",
          "text": [
            "國立大學在學生男女比：97.30984726379614 ≑ 97.31\n"
          ]
        }
      ]
    },
    {
      "cell_type": "markdown",
      "source": [
        " # 9. 每校平均最多與最少人的體系"
      ],
      "metadata": {
        "id": "zWIyQ01LXGo_"
      }
    },
    {
      "cell_type": "code",
      "source": [
        "df8 = df.drop_duplicates('學校代碼')\n",
        "system_count = df8['體系別'].value_counts()\n",
        "\n",
        "system_list = list(df['體系別'].unique())\n",
        "count_student = 0\n",
        "result_dict = {}\n",
        "\n",
        "for system in system_list:\n",
        "    for i in range(len(df)):\n",
        "        if df.loc[i,'體系別'] == system:\n",
        "            count_student += int(df.loc[i, '總計'])\n",
        "    result_dict[system[2:]] = count_student/system_count[system]\n",
        "    count_student = 0\n",
        "\n",
        "max_value = max(result_dict.values())\n",
        "min_value = min(result_dict.values())\n",
        "max_key = next(key for key, value in result_dict.items() if value == max_value)\n",
        "min_key = next(key for key, value in result_dict.items() if value == min_value)\n",
        "\n",
        "print(f\"每校平均最多人的是{max_key}體系，平均每校 {round(max_value,2)} 人；\")\n",
        "print(f\"每校平均最少人的是{min_key}體系，平均每校 {round(min_value,2)} 人。\")\n"
      ],
      "metadata": {
        "id": "uSHT2gbiXIW8",
        "colab": {
          "base_uri": "https://localhost:8080/"
        },
        "outputId": "09546e8f-d82c-450a-8211-8f9dd2334062"
      },
      "execution_count": 77,
      "outputs": [
        {
          "output_type": "stream",
          "name": "stdout",
          "text": [
            "每校平均最多人的是一般體系，平均每校 9224.89 人；\n",
            "每校平均最少人的是技職體系，平均每校 6143.56 人。\n"
          ]
        }
      ]
    },
    {
      "cell_type": "markdown",
      "source": [
        "# 10. 將新增的欄位寫入並儲存成新的CSV檔案，並命名為112_students_tf.csv\n",
        "\n",
        "新增的欄位有\"公私立\"，\"縣市名\"，\"區域\""
      ],
      "metadata": {
        "id": "KIx0QtssywfA"
      }
    },
    {
      "cell_type": "code",
      "source": [
        "df.to_csv('112_students_tf.csv', encoding='utf-8', sep=',')"
      ],
      "metadata": {
        "id": "LZUhVcpGzFOE"
      },
      "execution_count": 79,
      "outputs": []
    }
  ]
}