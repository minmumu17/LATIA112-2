{
  "nbformat": 4,
  "nbformat_minor": 0,
  "metadata": {
    "colab": {
      "provenance": []
    },
    "kernelspec": {
      "name": "python3",
      "display_name": "Python 3"
    },
    "language_info": {
      "name": "python"
    }
  },
  "cells": [
    {
      "cell_type": "code",
      "execution_count": 1,
      "metadata": {
        "colab": {
          "base_uri": "https://localhost:8080/"
        },
        "id": "3vc__EzZP3w6",
        "outputId": "53a23d74-6d9a-4585-e986-8e1a290c7bfd"
      },
      "outputs": [
        {
          "output_type": "stream",
          "name": "stdout",
          "text": [
            "Mounted at /content/gdrive/\n"
          ]
        },
        {
          "output_type": "execute_result",
          "data": {
            "text/plain": [
              "['cpbl.csv', 'requests_books.csv', 'dolls_with_requests.csv', 'hw2.ipynb']"
            ]
          },
          "metadata": {},
          "execution_count": 1
        }
      ],
      "source": [
        "# Connetced yourself Cloud Storage\n",
        "from google.colab import drive\n",
        "drive.mount('/content/gdrive/', force_remount=True)\n",
        "\n",
        "import os\n",
        "os.chdir(\"/content/gdrive/My Drive/LATIA112-2/HW2/\")\n",
        "os.listdir()"
      ]
    },
    {
      "cell_type": "code",
      "source": [
        "%%shell\n",
        "# Ubuntu no longer distributes chromium-browser outside of snap\n",
        "#\n",
        "# Proposed solution: https://askubuntu.com/questions/1204571/how-to-install-chromium-without-snap\n",
        "\n",
        "# Add debian buster\n",
        "cat > /etc/apt/sources.list.d/debian.list <<'EOF'\n",
        "deb [arch=amd64 signed-by=/usr/share/keyrings/debian-buster.gpg] http://deb.debian.org/debian buster main\n",
        "deb [arch=amd64 signed-by=/usr/share/keyrings/debian-buster-updates.gpg] http://deb.debian.org/debian buster-updates main\n",
        "deb [arch=amd64 signed-by=/usr/share/keyrings/debian-security-buster.gpg] http://deb.debian.org/debian-security buster/updates main\n",
        "EOF\n",
        "\n",
        "# Add keys\n",
        "apt-key adv --keyserver keyserver.ubuntu.com --recv-keys DCC9EFBF77E11517\n",
        "apt-key adv --keyserver keyserver.ubuntu.com --recv-keys 648ACFD622F3D138\n",
        "apt-key adv --keyserver keyserver.ubuntu.com --recv-keys 112695A0E562B32A\n",
        "\n",
        "apt-key export 77E11517 | gpg --dearmour -o /usr/share/keyrings/debian-buster.gpg\n",
        "apt-key export 22F3D138 | gpg --dearmour -o /usr/share/keyrings/debian-buster-updates.gpg\n",
        "apt-key export E562B32A | gpg --dearmour -o /usr/share/keyrings/debian-security-buster.gpg\n",
        "\n",
        "# Prefer debian repo for chromium* packages only\n",
        "# Note the double-blank lines between entries\n",
        "cat > /etc/apt/preferences.d/chromium.pref << 'EOF'\n",
        "Package: *\n",
        "Pin: release a=eoan\n",
        "Pin-Priority: 500\n",
        "\n",
        "Package: *\n",
        "Pin: origin \"deb.debian.org\"\n",
        "Pin-Priority: 300\n",
        "\n",
        "\n",
        "Package: chromium*\n",
        "Pin: origin \"deb.debian.org\"\n",
        "Pin-Priority: 700\n",
        "EOF\n",
        "\n",
        "# Install chromium and chromium-driver\n",
        "apt-get update\n",
        "apt-get install chromium chromium-driver\n",
        "\n",
        "# Install selenium\n",
        "pip install selenium"
      ],
      "metadata": {
        "colab": {
          "base_uri": "https://localhost:8080/"
        },
        "id": "GcpcFqBTQged",
        "outputId": "c43d8568-5d1a-4b81-e80c-77112541fedb"
      },
      "execution_count": 5,
      "outputs": [
        {
          "output_type": "stream",
          "name": "stdout",
          "text": [
            "Warning: apt-key is deprecated. Manage keyring files in trusted.gpg.d instead (see apt-key(8)).\n",
            "Executing: /tmp/apt-key-gpghome.x75U4icOhl/gpg.1.sh --keyserver keyserver.ubuntu.com --recv-keys DCC9EFBF77E11517\n",
            "gpg: key DCC9EFBF77E11517: \"Debian Stable Release Key (10/buster) <debian-release@lists.debian.org>\" not changed\n",
            "gpg: Total number processed: 1\n",
            "gpg:              unchanged: 1\n",
            "Warning: apt-key is deprecated. Manage keyring files in trusted.gpg.d instead (see apt-key(8)).\n",
            "Executing: /tmp/apt-key-gpghome.NMLXVm0SB2/gpg.1.sh --keyserver keyserver.ubuntu.com --recv-keys 648ACFD622F3D138\n",
            "gpg: key DC30D7C23CBBABEE: \"Debian Archive Automatic Signing Key (10/buster) <ftpmaster@debian.org>\" not changed\n",
            "gpg: Total number processed: 1\n",
            "gpg:              unchanged: 1\n",
            "Warning: apt-key is deprecated. Manage keyring files in trusted.gpg.d instead (see apt-key(8)).\n",
            "Executing: /tmp/apt-key-gpghome.QkqNb7Ff5k/gpg.1.sh --keyserver keyserver.ubuntu.com --recv-keys 112695A0E562B32A\n",
            "gpg: key 4DFAB270CAA96DFA: \"Debian Security Archive Automatic Signing Key (10/buster) <ftpmaster@debian.org>\" not changed\n",
            "gpg: Total number processed: 1\n",
            "gpg:              unchanged: 1\n",
            "gpg: cannot open '/dev/tty': No such device or address\n",
            "Warning: apt-key is deprecated. Manage keyring files in trusted.gpg.d instead (see apt-key(8)).\n",
            "gpg: [stdout]: write error: Broken pipe\n",
            "gpg: filter_flush failed on close: Broken pipe\n",
            "gpg: cannot open '/dev/tty': No such device or address\n",
            "Warning: apt-key is deprecated. Manage keyring files in trusted.gpg.d instead (see apt-key(8)).\n",
            "gpg: [stdout]: write error: Broken pipe\n",
            "gpg: filter_flush failed on close: Broken pipe\n",
            "gpg: cannot open '/dev/tty': No such device or address\n",
            "Warning: apt-key is deprecated. Manage keyring files in trusted.gpg.d instead (see apt-key(8)).\n",
            "gpg: [stdout]: write error: Broken pipe\n",
            "gpg: filter_flush failed on close: Broken pipe\n",
            "Hit:1 http://deb.debian.org/debian buster InRelease\n",
            "Hit:2 http://deb.debian.org/debian buster-updates InRelease\n",
            "Hit:3 http://deb.debian.org/debian-security buster/updates InRelease\n",
            "Hit:4 https://cloud.r-project.org/bin/linux/ubuntu jammy-cran40/ InRelease\n",
            "Hit:5 https://developer.download.nvidia.com/compute/cuda/repos/ubuntu2204/x86_64  InRelease\n",
            "Hit:6 http://security.ubuntu.com/ubuntu jammy-security InRelease\n",
            "Hit:7 http://archive.ubuntu.com/ubuntu jammy InRelease\n",
            "Hit:8 http://archive.ubuntu.com/ubuntu jammy-updates InRelease\n",
            "Hit:9 http://archive.ubuntu.com/ubuntu jammy-backports InRelease\n",
            "Hit:10 https://ppa.launchpadcontent.net/c2d4u.team/c2d4u4.0+/ubuntu jammy InRelease\n",
            "Hit:11 https://ppa.launchpadcontent.net/deadsnakes/ppa/ubuntu jammy InRelease\n",
            "Hit:12 https://ppa.launchpadcontent.net/graphics-drivers/ppa/ubuntu jammy InRelease\n",
            "Hit:13 https://ppa.launchpadcontent.net/ubuntugis/ppa/ubuntu jammy InRelease\n",
            "Reading package lists... Done\n",
            "Reading package lists... Done\n",
            "Building dependency tree... Done\n",
            "Reading state information... Done\n",
            "chromium is already the newest version (90.0.4430.212-1~deb10u1).\n",
            "chromium-driver is already the newest version (90.0.4430.212-1~deb10u1).\n",
            "0 upgraded, 0 newly installed, 0 to remove and 44 not upgraded.\n",
            "Requirement already satisfied: selenium in /usr/local/lib/python3.10/dist-packages (4.20.0)\n",
            "Requirement already satisfied: urllib3[socks]<3,>=1.26 in /usr/local/lib/python3.10/dist-packages (from selenium) (2.0.7)\n",
            "Requirement already satisfied: trio~=0.17 in /usr/local/lib/python3.10/dist-packages (from selenium) (0.25.0)\n",
            "Requirement already satisfied: trio-websocket~=0.9 in /usr/local/lib/python3.10/dist-packages (from selenium) (0.11.1)\n",
            "Requirement already satisfied: certifi>=2021.10.8 in /usr/local/lib/python3.10/dist-packages (from selenium) (2024.2.2)\n",
            "Requirement already satisfied: typing_extensions>=4.9.0 in /usr/local/lib/python3.10/dist-packages (from selenium) (4.11.0)\n",
            "Requirement already satisfied: attrs>=23.2.0 in /usr/local/lib/python3.10/dist-packages (from trio~=0.17->selenium) (23.2.0)\n",
            "Requirement already satisfied: sortedcontainers in /usr/local/lib/python3.10/dist-packages (from trio~=0.17->selenium) (2.4.0)\n",
            "Requirement already satisfied: idna in /usr/local/lib/python3.10/dist-packages (from trio~=0.17->selenium) (3.7)\n",
            "Requirement already satisfied: outcome in /usr/local/lib/python3.10/dist-packages (from trio~=0.17->selenium) (1.3.0.post0)\n",
            "Requirement already satisfied: sniffio>=1.3.0 in /usr/local/lib/python3.10/dist-packages (from trio~=0.17->selenium) (1.3.1)\n",
            "Requirement already satisfied: exceptiongroup in /usr/local/lib/python3.10/dist-packages (from trio~=0.17->selenium) (1.2.1)\n",
            "Requirement already satisfied: wsproto>=0.14 in /usr/local/lib/python3.10/dist-packages (from trio-websocket~=0.9->selenium) (1.2.0)\n",
            "Requirement already satisfied: pysocks!=1.5.7,<2.0,>=1.5.6 in /usr/local/lib/python3.10/dist-packages (from urllib3[socks]<3,>=1.26->selenium) (1.7.1)\n",
            "Requirement already satisfied: h11<1,>=0.9.0 in /usr/local/lib/python3.10/dist-packages (from wsproto>=0.14->trio-websocket~=0.9->selenium) (0.14.0)\n"
          ]
        },
        {
          "output_type": "execute_result",
          "data": {
            "text/plain": []
          },
          "metadata": {},
          "execution_count": 5
        }
      ]
    },
    {
      "cell_type": "markdown",
      "source": [
        "# Selenium 跟 beautiful soup"
      ],
      "metadata": {
        "id": "3ltJ47ovuz4Z"
      }
    },
    {
      "cell_type": "code",
      "source": [
        "# 導入Selenium的webdriver模組，用於控制Chrome瀏覽器。\n",
        "from selenium import webdriver\n",
        "\n",
        "# 從Selenium函式庫的common.by模組中導入`By`，用於指定元素的定位方式。\n",
        "from selenium.webdriver.common.by import By\n",
        "\n",
        "import pandas as pd\n",
        "from selenium.webdriver.chrome.service import Service\n",
        "from selenium.webdriver.support.ui import WebDriverWait\n",
        "from selenium.webdriver.support import expected_conditions as EC\n",
        "from bs4 import BeautifulSoup\n",
        "\n",
        "# 建立ChromeOptions物件，這個物件用於設定Chrome瀏覽器的選項。\n",
        "chrome_options = webdriver.ChromeOptions()\n",
        "\n",
        "# 使用add_argument()方法添加--headless參數，使Chrome以headless模式運行，即在後台運行，不顯示GUI界面。\n",
        "chrome_options.add_argument('--headless')\n",
        "\n",
        "# 使用add_argument()方法添加--no-sandbox參數，這是一個必要的參數，用於解決在某些環境下的運行問題。\n",
        "chrome_options.add_argument('--no-sandbox')\n",
        "\n",
        "# 將 headless 屬性設置為 True。\n",
        "chrome_options.headless = True\n",
        "\n",
        "# 初始化Chrome WebDriver，並傳遞Chromedriver的路徑和選項。\n",
        "driver = webdriver.Chrome(options=chrome_options)\n",
        "\n",
        "# 設置隱式等待時間為10秒。隱式等待是在查找元素時的一種等待方式，\n",
        "# 如果WebDriver沒有找到元素，它會等待一定的時間再進行查找，直到超過設定的時間為止。\n",
        "driver.implicitly_wait(10)\n",
        "\n",
        "# 載入目標網頁\n",
        "driver.get('https://timtingtravel.com/usa-nyc-broadway-shows/')\n",
        "\n",
        "# 等待網頁加載完成\n",
        "driver.implicitly_wait(10)\n",
        "\n",
        "# 取得網頁內容\n",
        "html = driver.page_source\n",
        "\n",
        "# 關閉瀏覽器\n",
        "driver.quit()\n",
        "\n",
        "# 使用Beautiful Soup解析HTML\n",
        "soup = BeautifulSoup(html, 'html.parser')\n",
        "\n",
        "# 找到表格元素\n",
        "table = soup.find('table')\n",
        "\n",
        "# 使用pandas的read_html來解析表格\n",
        "dfs = pd.read_html(str(table), header=0, keep_default_na=False)\n",
        "\n",
        "# 選擇第一個表格\n",
        "selected_table = dfs[0]\n",
        "\n",
        "# 將資料儲存為CSV檔案\n",
        "selected_table.to_csv('cpbl.csv', index=False)\n",
        "\n",
        "print(\"CSV has Created.\")\n",
        "print(dfs[0])"
      ],
      "metadata": {
        "colab": {
          "base_uri": "https://localhost:8080/"
        },
        "id": "-kpRlRagQ3G9",
        "outputId": "5e88f03c-369e-4fcf-c03c-2ccb358fdfb0"
      },
      "execution_count": 6,
      "outputs": [
        {
          "output_type": "stream",
          "name": "stdout",
          "text": [
            "CSV has Created.\n",
            "                                                  名稱  \\\n",
            "0  1. 歌劇魅影(The Phantom of the Opera) [已於 2023/4/1...   \n",
            "1                              2. 獅子王(The Lion King)   \n",
            "2                                    3. 阿拉丁(Aladdin)   \n",
            "3    4. 哈利波特與被詛咒的孩子(Harry Potter & the Cursed Child)   \n",
            "4                                    5. 芝加哥(Chicago)   \n",
            "5                                6. 綠野仙蹤女巫前傳(Wicked)   \n",
            "6                                  7. 漢密爾頓(Hamilton)   \n",
            "7                         8. 摩門經(The Book of Mormon)   \n",
            "8                        9. 致埃文·漢森(Dear Evan Hansen)   \n",
            "9                           10. 來自遠方(Come from Away)   \n",
            "\n",
            "                                                  地點  \\\n",
            "0            Majestic Theatre (莊嚴劇院) [245 W 44th St]   \n",
            "1          Minskoff Theater(明斯科夫劇場) [200 W 45th St]﻿   \n",
            "2   New Amsterdam Theatre(新阿姆斯特丹劇院) [214 W 42nd St]﻿   \n",
            "3               Lyric Theatre(抒情劇院) [214 W 43rd St]﻿   \n",
            "4          Ambassador Theatre(大使劇場) [219 W 49th St]﻿   \n",
            "5           Gershwin Theatre(格甚溫劇院) [222 W 51st St]﻿   \n",
            "6  Richard Rodgers Theatre(理查德·羅傑斯劇場) [226 W 46th...   \n",
            "7  Eugene O'Neill Theatre(尤金·奧尼爾劇院) [230 W 49th St]﻿   \n",
            "8          Music Box Theatre(音樂盒劇院) [239 W 45th St]﻿   \n",
            "9  Gerald Schoenfeld Theatre(利茅斯劇院) [236 W 45th St]﻿   \n",
            "\n",
            "                                                  簡介  \\\n",
            "0  百老匯最經典、演出場次最多的音樂劇 現場唱功非常驚人、水準超高 適合所有接觸過、喜歡歌劇魅影的旅客   \n",
            "1         百老匯當中最賣座的舞台秀 場面舞台盛大、服裝非常有巧思 老少咸宜，適合全家人一同觀賞   \n",
            "2         迪士尼最經典的作品之一 場面、戲服、舞蹈、特技都很華麗 老少咸宜，適合全家人一同觀賞   \n",
            "3    剛推出就被搶空的最賣座音樂劇之一 燈光、舞台、特效和現場感都屬頂尖 適合「哈利波特」的超級粉絲   \n",
            "4     百老匯巡演時間第二長的音樂劇 完美復刻 20 年代美國音樂和舞蹈 需要較好的英文程度才能看懂   \n",
            "5       百老匯當中最賣座的舞台秀之一 完全顛覆原著「綠野仙蹤」角色設定 少數替反派角色發聲的作品   \n",
            "6  紐約近年來最火紅的音樂劇之一 以嘻哈 / R&B / 拉丁裔演員來呈現 需要較好的英文程度才能看懂   \n",
            "7  以幽默搞笑方式來諷刺宗教和社會問題 被譽為最具影響力的百老匯音樂劇之一 需要較好的英文程度才能看懂   \n",
            "8    紐約近年來最火紅的音樂劇之一 完美呈現社交媒體 & 人際關係的議題 需要較好的英文程度才能看懂   \n",
            "9     紐約近年來最火紅的音樂劇之一 根據911真實故事改編的感人音樂劇 需要較好的英文程度才能看懂   \n",
            "\n",
            "                                      資訊  \n",
            "0      時間：約 2.5 小時 票價：根據座位、時間不同而不同 點此看優惠  \n",
            "1      時間：約 2.5 小時 票價：根據座位、時間不同而不同 點此看優惠  \n",
            "2      時間：約 2.5 小時 票價：根據座位、時間不同而不同 點此看優惠  \n",
            "3      時間：約 3.5 小時 票價：根據座位、時間不同而不同 點此看優惠  \n",
            "4      時間：約 2.5 小時 票價：根據座位、時間不同而不同 點此看優惠  \n",
            "5  時間：約 2 小時 45 分鐘 票價：根據座位、時間不同而不同 點此看優惠  \n",
            "6      時間：約 2.5 小時 票價：根據座位、時間不同而不同 點此看優惠  \n",
            "7      時間：約 2.5 小時 票價：根據座位、時間不同而不同 點此看優惠  \n",
            "8      時間：約 2.5 小時 票價：根據座位、時間不同而不同 點此看優惠  \n",
            "9  時間：約 1 小時 40 分鐘 票價：根據座位、時間不同而不同 點此看優惠  \n"
          ]
        }
      ]
    },
    {
      "cell_type": "markdown",
      "source": [
        "# request\n"
      ],
      "metadata": {
        "id": "2jASVyFLsXHf"
      }
    },
    {
      "cell_type": "code",
      "source": [
        "import pandas as pd\n",
        "import requests\n",
        "from bs4 import BeautifulSoup\n",
        "\n",
        "# 發送GET請求獲取網頁內容\n",
        "url = 'https://timtingtravel.com/usa-nyc-broadway-shows/'\n",
        "response = requests.get(url)\n",
        "html = response.text\n",
        "\n",
        "# 使用Beautiful Soup解析HTML\n",
        "soup = BeautifulSoup(html, 'html.parser')\n",
        "\n",
        "# 找到表格元素\n",
        "table = soup.find('table')\n",
        "\n",
        "# 使用pandas的read_html來解析表格\n",
        "dfs = pd.read_html(str(table), header=0, keep_default_na=False)\n",
        "\n",
        "# 選擇第一個表格\n",
        "selected_table = dfs[0]\n",
        "\n",
        "# 將資料儲存為CSV檔案\n",
        "selected_table.to_csv('cpb2.csv', index=False)\n",
        "\n",
        "print(\"已創建CSV檔案。\")\n",
        "print(dfs[0])\n"
      ],
      "metadata": {
        "colab": {
          "base_uri": "https://localhost:8080/"
        },
        "id": "k07UjxFEsYsO",
        "outputId": "b14c8913-1534-44b0-e7ba-c4ac4aa8e237"
      },
      "execution_count": 8,
      "outputs": [
        {
          "output_type": "stream",
          "name": "stdout",
          "text": [
            "已創建CSV檔案。\n",
            "                                                  名稱  \\\n",
            "0  1. 歌劇魅影(The Phantom of the Opera) [已於 2023/4/1...   \n",
            "1                              2. 獅子王(The Lion King)   \n",
            "2                                    3. 阿拉丁(Aladdin)   \n",
            "3    4. 哈利波特與被詛咒的孩子(Harry Potter & the Cursed Child)   \n",
            "4                                    5. 芝加哥(Chicago)   \n",
            "5                                6. 綠野仙蹤女巫前傳(Wicked)   \n",
            "6                                  7. 漢密爾頓(Hamilton)   \n",
            "7                         8. 摩門經(The Book of Mormon)   \n",
            "8                        9. 致埃文·漢森(Dear Evan Hansen)   \n",
            "9                           10. 來自遠方(Come from Away)   \n",
            "\n",
            "                                                  地點  \\\n",
            "0            Majestic Theatre (莊嚴劇院) [245 W 44th St]   \n",
            "1          Minskoff Theater(明斯科夫劇場) [200 W 45th St]﻿   \n",
            "2   New Amsterdam Theatre(新阿姆斯特丹劇院) [214 W 42nd St]﻿   \n",
            "3               Lyric Theatre(抒情劇院) [214 W 43rd St]﻿   \n",
            "4          Ambassador Theatre(大使劇場) [219 W 49th St]﻿   \n",
            "5           Gershwin Theatre(格甚溫劇院) [222 W 51st St]﻿   \n",
            "6  Richard Rodgers Theatre(理查德·羅傑斯劇場) [226 W 46th...   \n",
            "7  Eugene O'Neill Theatre(尤金·奧尼爾劇院) [230 W 49th St]﻿   \n",
            "8          Music Box Theatre(音樂盒劇院) [239 W 45th St]﻿   \n",
            "9  Gerald Schoenfeld Theatre(利茅斯劇院) [236 W 45th St]﻿   \n",
            "\n",
            "                                                  簡介  \\\n",
            "0  百老匯最經典、演出場次最多的音樂劇 現場唱功非常驚人、水準超高 適合所有接觸過、喜歡歌劇魅影的旅客   \n",
            "1         百老匯當中最賣座的舞台秀 場面舞台盛大、服裝非常有巧思 老少咸宜，適合全家人一同觀賞   \n",
            "2         迪士尼最經典的作品之一 場面、戲服、舞蹈、特技都很華麗 老少咸宜，適合全家人一同觀賞   \n",
            "3    剛推出就被搶空的最賣座音樂劇之一 燈光、舞台、特效和現場感都屬頂尖 適合「哈利波特」的超級粉絲   \n",
            "4     百老匯巡演時間第二長的音樂劇 完美復刻 20 年代美國音樂和舞蹈 需要較好的英文程度才能看懂   \n",
            "5       百老匯當中最賣座的舞台秀之一 完全顛覆原著「綠野仙蹤」角色設定 少數替反派角色發聲的作品   \n",
            "6  紐約近年來最火紅的音樂劇之一 以嘻哈 / R&B / 拉丁裔演員來呈現 需要較好的英文程度才能看懂   \n",
            "7  以幽默搞笑方式來諷刺宗教和社會問題 被譽為最具影響力的百老匯音樂劇之一 需要較好的英文程度才能看懂   \n",
            "8    紐約近年來最火紅的音樂劇之一 完美呈現社交媒體 & 人際關係的議題 需要較好的英文程度才能看懂   \n",
            "9     紐約近年來最火紅的音樂劇之一 根據911真實故事改編的感人音樂劇 需要較好的英文程度才能看懂   \n",
            "\n",
            "                                      資訊  \n",
            "0      時間：約 2.5 小時 票價：根據座位、時間不同而不同 點此看優惠  \n",
            "1      時間：約 2.5 小時 票價：根據座位、時間不同而不同 點此看優惠  \n",
            "2      時間：約 2.5 小時 票價：根據座位、時間不同而不同 點此看優惠  \n",
            "3      時間：約 3.5 小時 票價：根據座位、時間不同而不同 點此看優惠  \n",
            "4      時間：約 2.5 小時 票價：根據座位、時間不同而不同 點此看優惠  \n",
            "5  時間：約 2 小時 45 分鐘 票價：根據座位、時間不同而不同 點此看優惠  \n",
            "6      時間：約 2.5 小時 票價：根據座位、時間不同而不同 點此看優惠  \n",
            "7      時間：約 2.5 小時 票價：根據座位、時間不同而不同 點此看優惠  \n",
            "8      時間：約 2.5 小時 票價：根據座位、時間不同而不同 點此看優惠  \n",
            "9  時間：約 1 小時 40 分鐘 票價：根據座位、時間不同而不同 點此看優惠  \n"
          ]
        }
      ]
    }
  ]
}